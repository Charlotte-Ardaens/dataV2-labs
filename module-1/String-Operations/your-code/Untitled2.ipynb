{
 "cells": [
  {
   "cell_type": "code",
   "execution_count": 26,
   "metadata": {},
   "outputs": [],
   "source": [
    "class cafe:\n",
    "    def __init__(self, name, city):\n",
    "        self.name=name\n",
    "        self.city=city\n",
    "        self.cat=''\n",
    "    \n",
    "    def category(self,mean_bill):\n",
    "        if mean_bill < 10:\n",
    "            self.cat='€'\n",
    "        elif 10<=mean_bill<30:\n",
    "            self.cat='€€' \n",
    "        else:\n",
    "            self.cat='€€€'\n",
    "        return f'{self.name} category is {self.cat}'\n",
    "      "
   ]
  },
  {
   "cell_type": "code",
   "execution_count": 27,
   "metadata": {},
   "outputs": [],
   "source": [
    "moncafe=cafe('LeCafeParisien','Paris')"
   ]
  },
  {
   "cell_type": "code",
   "execution_count": 28,
   "metadata": {},
   "outputs": [
    {
     "data": {
      "text/plain": [
       "'LeCafeParisien category is €€'"
      ]
     },
     "execution_count": 28,
     "metadata": {},
     "output_type": "execute_result"
    }
   ],
   "source": [
    "moncafe.category(11)"
   ]
  },
  {
   "cell_type": "code",
   "execution_count": 31,
   "metadata": {},
   "outputs": [],
   "source": [
    "class cafe:\n",
    "    def __init__(self, name, city):\n",
    "        self.name=name\n",
    "        self.city=city\n",
    "        self.cat=''\n",
    "        \n",
    "    def category(self,mean_bill):\n",
    "        if mean_bill < 10:\n",
    "            cat='€'\n",
    "        elif 10<=mean_bill<30:\n",
    "            cat='€€' \n",
    "        else:\n",
    "            cat='€€€'\n",
    "        return f'{self.name} category is {cat}'\n",
    "    \n",
    "    def size(self,capacity):\n",
    "        self.capacity=capacity\n",
    "        if self.capacity<10:\n",
    "            return 'This is a very small café, you need to book before coming'\n",
    "        if 10<=self.capacity<30:\n",
    "            return 'This is a small café, you should book before coming'\n",
    "        if 30<=self.capacity<50:\n",
    "            return 'This is quite a big café, try and come, we may have some available tables'\n",
    "        if self.capacity>=50:\n",
    "            return 'This is a big café, come !'\n",
    "\n",
    "        "
   ]
  },
  {
   "cell_type": "code",
   "execution_count": 33,
   "metadata": {},
   "outputs": [
    {
     "data": {
      "text/plain": [
       "'This is quite a big café, try and come, we may have some available tables'"
      ]
     },
     "execution_count": 33,
     "metadata": {},
     "output_type": "execute_result"
    }
   ],
   "source": [
    "moncafe=cafe('LeCafeParisien','Paris')\n",
    "moncafe.size(43)"
   ]
  },
  {
   "cell_type": "code",
   "execution_count": 41,
   "metadata": {},
   "outputs": [],
   "source": [
    "class cafe:\n",
    "    def __init__(self, name, city, capacity):\n",
    "        self.name=name\n",
    "        self.city=city\n",
    "        self.capacity=capacity\n",
    "              \n",
    "    def category(self,mean_bill):\n",
    "        if mean_bill < 10:\n",
    "            cat='€'\n",
    "        elif 10<=mean_bill<30:\n",
    "            cat='€€' \n",
    "        else:\n",
    "            cat='€€€'\n",
    "        return f'{self.name} category is {cat}'\n",
    "    \n",
    "    def size(self):\n",
    "        if self.capacity<10:\n",
    "            return 'This is a very small café, you need to book before coming'\n",
    "        if 10<=self.capacity<30:\n",
    "            return 'This is a small café, you should book before coming'\n",
    "        if 30<=self.capacity<50:\n",
    "            return 'This is quite a big café, try and come, we may have some available tables'\n",
    "        if self.capacity>=50:\n",
    "            return 'This is a big café, come !'\n",
    "\n",
    "    "
   ]
  },
  {
   "cell_type": "code",
   "execution_count": 42,
   "metadata": {},
   "outputs": [],
   "source": [
    "moncafe=cafe('LeCafeParisien','Paris',43)\n"
   ]
  },
  {
   "cell_type": "code",
   "execution_count": 43,
   "metadata": {},
   "outputs": [
    {
     "data": {
      "text/plain": [
       "'This is quite a big café, try and come, we may have some available tables'"
      ]
     },
     "execution_count": 43,
     "metadata": {},
     "output_type": "execute_result"
    }
   ],
   "source": [
    "moncafe.size()"
   ]
  },
  {
   "cell_type": "code",
   "execution_count": 48,
   "metadata": {},
   "outputs": [],
   "source": [
    "class cafe:\n",
    "    def __init__(self, name, city, capacity):\n",
    "        self.name=name\n",
    "        self.city=city\n",
    "        self.capacity=capacity\n",
    "              \n",
    "    def category(self,mean_bill):\n",
    "        if mean_bill < 10:\n",
    "            cat='€'\n",
    "        elif 10<=mean_bill<30:\n",
    "            cat='€€' \n",
    "        else:\n",
    "            cat='€€€'\n",
    "        return f'{self.name} category is {cat}'\n",
    "    \n",
    "    def size(self):\n",
    "        if self.capacity<10:\n",
    "            return 'This is a very small café, you need to book before coming'\n",
    "        if 10<=self.capacity<30:\n",
    "            return 'This is a small café, you should book before coming'\n",
    "        if 30<=self.capacity<50:\n",
    "            return 'This is quite a big café, try and come, we may have some available tables'\n",
    "        if self.capacity>=50:\n",
    "            return 'This is a big café, come !'\n",
    "\n",
    "    def available_seats(self,visitors):\n",
    "        self.visitors=visitors\n",
    "        if self.capacity - self.visitors >10:\n",
    "            return 'there a still some available seats, please come in'\n",
    "        if 1< self.capacity- self.visitors<=10:\n",
    "            return 'yeah, try to come!'\n",
    "        if self.capacity-self.visitors==1:\n",
    "            return 'Come only if you are alone!'\n",
    "        if self.capacity-self.visitors <=0:\n",
    "            return 'Sorry we are full'\n",
    "        "
   ]
  },
  {
   "cell_type": "code",
   "execution_count": 49,
   "metadata": {},
   "outputs": [],
   "source": [
    "moncafe=cafe('LeCafeParisien','Paris',43)"
   ]
  },
  {
   "cell_type": "code",
   "execution_count": 50,
   "metadata": {},
   "outputs": [
    {
     "data": {
      "text/plain": [
       "'there a still some available seats, please come in'"
      ]
     },
     "execution_count": 50,
     "metadata": {},
     "output_type": "execute_result"
    }
   ],
   "source": [
    "moncafe.available_seats(1)"
   ]
  },
  {
   "cell_type": "code",
   "execution_count": 51,
   "metadata": {},
   "outputs": [
    {
     "data": {
      "text/plain": [
       "'yeah, try to come!'"
      ]
     },
     "execution_count": 51,
     "metadata": {},
     "output_type": "execute_result"
    }
   ],
   "source": [
    "moncafe.available_seats(33)"
   ]
  },
  {
   "cell_type": "code",
   "execution_count": 52,
   "metadata": {},
   "outputs": [
    {
     "data": {
      "text/plain": [
       "'Come only if you are alone!'"
      ]
     },
     "execution_count": 52,
     "metadata": {},
     "output_type": "execute_result"
    }
   ],
   "source": [
    "moncafe.available_seats(42)"
   ]
  },
  {
   "cell_type": "code",
   "execution_count": 53,
   "metadata": {},
   "outputs": [
    {
     "data": {
      "text/plain": [
       "'Sorry we are full'"
      ]
     },
     "execution_count": 53,
     "metadata": {},
     "output_type": "execute_result"
    }
   ],
   "source": [
    "moncafe.available_seats(45)"
   ]
  },
  {
   "cell_type": "code",
   "execution_count": null,
   "metadata": {},
   "outputs": [],
   "source": []
  }
 ],
 "metadata": {
  "kernelspec": {
   "display_name": "Python 3",
   "language": "python",
   "name": "python3"
  },
  "language_info": {
   "codemirror_mode": {
    "name": "ipython",
    "version": 3
   },
   "file_extension": ".py",
   "mimetype": "text/x-python",
   "name": "python",
   "nbconvert_exporter": "python",
   "pygments_lexer": "ipython3",
   "version": "3.7.4"
  }
 },
 "nbformat": 4,
 "nbformat_minor": 2
}
