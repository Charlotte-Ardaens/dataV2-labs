{
 "cells": [
  {
   "cell_type": "code",
   "execution_count": 1,
   "metadata": {},
   "outputs": [],
   "source": [
    "class Dog:\n",
    "    def __init__(self):\n",
    "        pass"
   ]
  },
  {
   "cell_type": "code",
   "execution_count": 2,
   "metadata": {},
   "outputs": [],
   "source": [
    "barky=Dog()"
   ]
  },
  {
   "cell_type": "code",
   "execution_count": 3,
   "metadata": {},
   "outputs": [
    {
     "name": "stdout",
     "output_type": "stream",
     "text": [
      "<__main__.Dog object at 0x000000000514B248>\n"
     ]
    }
   ],
   "source": [
    "print(barky)"
   ]
  },
  {
   "cell_type": "code",
   "execution_count": 5,
   "metadata": {},
   "outputs": [],
   "source": [
    "class Dog:\n",
    "    \n",
    "    def __init__(self, name, age):\n",
    "        self.name=name\n",
    "        self.age=age"
   ]
  },
  {
   "cell_type": "code",
   "execution_count": 6,
   "metadata": {},
   "outputs": [],
   "source": [
    "barky=Dog('barky',1)"
   ]
  },
  {
   "cell_type": "code",
   "execution_count": 7,
   "metadata": {},
   "outputs": [
    {
     "data": {
      "text/plain": [
       "'barky'"
      ]
     },
     "execution_count": 7,
     "metadata": {},
     "output_type": "execute_result"
    }
   ],
   "source": [
    "barky.name"
   ]
  },
  {
   "cell_type": "code",
   "execution_count": 8,
   "metadata": {},
   "outputs": [
    {
     "data": {
      "text/plain": [
       "1"
      ]
     },
     "execution_count": 8,
     "metadata": {},
     "output_type": "execute_result"
    }
   ],
   "source": [
    "barky.age"
   ]
  },
  {
   "cell_type": "code",
   "execution_count": 9,
   "metadata": {},
   "outputs": [
    {
     "name": "stdout",
     "output_type": "stream",
     "text": [
      "barky is 1 years old\n"
     ]
    }
   ],
   "source": [
    "print(f'{barky.name} is {barky.age} years old')"
   ]
  },
  {
   "cell_type": "code",
   "execution_count": 13,
   "metadata": {},
   "outputs": [],
   "source": [
    "class Dog:\n",
    "    \n",
    "    def __init__(self, name, age=None):\n",
    "        self.name=name\n",
    "        self.age=age\n",
    "        \n",
    "    def voice(self):\n",
    "        print('bark! bark!')"
   ]
  },
  {
   "cell_type": "code",
   "execution_count": 11,
   "metadata": {},
   "outputs": [
    {
     "ename": "AttributeError",
     "evalue": "'Dog' object has no attribute 'voice'",
     "output_type": "error",
     "traceback": [
      "\u001b[1;31m---------------------------------------------------------------------------\u001b[0m",
      "\u001b[1;31mAttributeError\u001b[0m                            Traceback (most recent call last)",
      "\u001b[1;32m<ipython-input-11-6ca6fd7d2b8a>\u001b[0m in \u001b[0;36m<module>\u001b[1;34m\u001b[0m\n\u001b[1;32m----> 1\u001b[1;33m \u001b[0mbarky\u001b[0m\u001b[1;33m.\u001b[0m\u001b[0mvoice\u001b[0m\u001b[1;33m(\u001b[0m\u001b[1;33m)\u001b[0m\u001b[1;33m\u001b[0m\u001b[1;33m\u001b[0m\u001b[0m\n\u001b[0m",
      "\u001b[1;31mAttributeError\u001b[0m: 'Dog' object has no attribute 'voice'"
     ]
    }
   ],
   "source": [
    "barky.voice()"
   ]
  },
  {
   "cell_type": "code",
   "execution_count": 15,
   "metadata": {},
   "outputs": [
    {
     "name": "stdout",
     "output_type": "stream",
     "text": [
      "bark! bark!\n"
     ]
    }
   ],
   "source": [
    "barky=Dog('Barky')\n",
    "barky.voice()"
   ]
  },
  {
   "cell_type": "code",
   "execution_count": 16,
   "metadata": {},
   "outputs": [],
   "source": [
    "barky.age"
   ]
  },
  {
   "cell_type": "code",
   "execution_count": 17,
   "metadata": {},
   "outputs": [],
   "source": [
    "class Dog:\n",
    "    \n",
    "    def __init__(self, name, age=None):\n",
    "        self.name=name\n",
    "        self.age=age\n",
    "        \n",
    "    def voice(self):\n",
    "        print('bark! bark!')\n",
    "        \n",
    "    def birthday(self):\n",
    "        self.age+=1"
   ]
  },
  {
   "cell_type": "code",
   "execution_count": 18,
   "metadata": {},
   "outputs": [
    {
     "name": "stdout",
     "output_type": "stream",
     "text": [
      "1\n",
      "2\n"
     ]
    }
   ],
   "source": [
    "barky=Dog('Barky',1)\n",
    "print(barky.age)\n",
    "barky.birthday()\n",
    "print(barky.age)"
   ]
  },
  {
   "cell_type": "code",
   "execution_count": 19,
   "metadata": {},
   "outputs": [
    {
     "name": "stdout",
     "output_type": "stream",
     "text": [
      "3\n"
     ]
    }
   ],
   "source": [
    "barky.birthday()\n",
    "print(barky.age)"
   ]
  },
  {
   "cell_type": "code",
   "execution_count": 20,
   "metadata": {},
   "outputs": [],
   "source": [
    "class Dog:\n",
    "    \n",
    "    def __init__(self, name, age=None):\n",
    "        self.name=name\n",
    "        self.age=age\n",
    "        \n",
    "    def voice(self):\n",
    "        print('bark! bark!')\n",
    "        \n",
    "    def birthday(self):\n",
    "        self.age+=1\n",
    "        \n",
    "    def setBuddy(self, bro):\n",
    "        self.buddy=bro\n",
    "        bro.buddy=self"
   ]
  },
  {
   "cell_type": "code",
   "execution_count": 21,
   "metadata": {},
   "outputs": [],
   "source": [
    "barky=Dog('Barky',1)\n",
    "zippy=Dog('Zippy',2)"
   ]
  },
  {
   "cell_type": "code",
   "execution_count": 22,
   "metadata": {},
   "outputs": [
    {
     "ename": "AttributeError",
     "evalue": "'Dog' object has no attribute 'buddy'",
     "output_type": "error",
     "traceback": [
      "\u001b[1;31m---------------------------------------------------------------------------\u001b[0m",
      "\u001b[1;31mAttributeError\u001b[0m                            Traceback (most recent call last)",
      "\u001b[1;32m<ipython-input-22-6b9475051946>\u001b[0m in \u001b[0;36m<module>\u001b[1;34m\u001b[0m\n\u001b[1;32m----> 1\u001b[1;33m \u001b[0mbarky\u001b[0m\u001b[1;33m.\u001b[0m\u001b[0mbuddy\u001b[0m\u001b[1;33m\u001b[0m\u001b[1;33m\u001b[0m\u001b[0m\n\u001b[0m",
      "\u001b[1;31mAttributeError\u001b[0m: 'Dog' object has no attribute 'buddy'"
     ]
    }
   ],
   "source": [
    "barky.buddy"
   ]
  },
  {
   "cell_type": "code",
   "execution_count": 23,
   "metadata": {},
   "outputs": [],
   "source": [
    "barky.setBuddy(zippy)"
   ]
  },
  {
   "cell_type": "code",
   "execution_count": 24,
   "metadata": {},
   "outputs": [
    {
     "data": {
      "text/plain": [
       "'Zippy'"
      ]
     },
     "execution_count": 24,
     "metadata": {},
     "output_type": "execute_result"
    }
   ],
   "source": [
    "barky.buddy.name"
   ]
  },
  {
   "cell_type": "code",
   "execution_count": 25,
   "metadata": {},
   "outputs": [
    {
     "data": {
      "text/plain": [
       "'Barky'"
      ]
     },
     "execution_count": 25,
     "metadata": {},
     "output_type": "execute_result"
    }
   ],
   "source": [
    "barky.buddy.buddy.name"
   ]
  },
  {
   "cell_type": "code",
   "execution_count": 26,
   "metadata": {},
   "outputs": [
    {
     "data": {
      "text/plain": [
       "1"
      ]
     },
     "execution_count": 26,
     "metadata": {},
     "output_type": "execute_result"
    }
   ],
   "source": [
    "barky.age"
   ]
  },
  {
   "cell_type": "code",
   "execution_count": 27,
   "metadata": {},
   "outputs": [
    {
     "data": {
      "text/plain": [
       "2"
      ]
     },
     "execution_count": 27,
     "metadata": {},
     "output_type": "execute_result"
    }
   ],
   "source": [
    "zippy.age"
   ]
  },
  {
   "cell_type": "code",
   "execution_count": 28,
   "metadata": {},
   "outputs": [
    {
     "data": {
      "text/plain": [
       "2"
      ]
     },
     "execution_count": 28,
     "metadata": {},
     "output_type": "execute_result"
    }
   ],
   "source": [
    "barky.birthday()\n",
    "barky.age"
   ]
  },
  {
   "cell_type": "code",
   "execution_count": 29,
   "metadata": {},
   "outputs": [
    {
     "data": {
      "text/plain": [
       "True"
      ]
     },
     "execution_count": 29,
     "metadata": {},
     "output_type": "execute_result"
    }
   ],
   "source": [
    "barky.age==zippy.age"
   ]
  },
  {
   "cell_type": "code",
   "execution_count": 33,
   "metadata": {},
   "outputs": [],
   "source": [
    "class Dog:\n",
    "    \n",
    "    species='mammals'\n",
    "    level_of_danger=1\n",
    "    number_of_legs=4\n",
    "    \n",
    "    def __init__(self, name, age=None, lod=level_of_danger, nol=number_of_legs):\n",
    "        self.name=name\n",
    "        self.age=age\n",
    "        self.level_of_danger=lod\n",
    "        self.number_of_legs=nol\n",
    "        \n",
    "    def voice(self):\n",
    "        print('bark! bark!')\n",
    "        \n",
    "    def birthday(self):\n",
    "        self.age+=1\n",
    "        \n",
    "    def setBuddy(self, bro):\n",
    "        self.buddy=bro\n",
    "        bro.buddy=self\n",
    "        \n",
    "    "
   ]
  },
  {
   "cell_type": "code",
   "execution_count": 31,
   "metadata": {},
   "outputs": [],
   "source": [
    "barky=Dog('Barky')"
   ]
  },
  {
   "cell_type": "code",
   "execution_count": 32,
   "metadata": {},
   "outputs": [
    {
     "data": {
      "text/plain": [
       "'mammals'"
      ]
     },
     "execution_count": 32,
     "metadata": {},
     "output_type": "execute_result"
    }
   ],
   "source": [
    "barky.species"
   ]
  },
  {
   "cell_type": "code",
   "execution_count": 34,
   "metadata": {},
   "outputs": [
    {
     "data": {
      "text/plain": [
       "10"
      ]
     },
     "execution_count": 34,
     "metadata": {},
     "output_type": "execute_result"
    }
   ],
   "source": [
    "spark=Dog('Spark',lod=10)\n",
    "spark.level_of_danger"
   ]
  },
  {
   "cell_type": "code",
   "execution_count": 35,
   "metadata": {},
   "outputs": [
    {
     "data": {
      "text/plain": [
       "1"
      ]
     },
     "execution_count": 35,
     "metadata": {},
     "output_type": "execute_result"
    }
   ],
   "source": [
    "barky.level_of_danger"
   ]
  },
  {
   "cell_type": "code",
   "execution_count": 42,
   "metadata": {},
   "outputs": [],
   "source": [
    "class Dog:\n",
    "    \n",
    "    species='mammals'\n",
    "    level_of_danger=1\n",
    "    number_of_legs=4\n",
    "    \n",
    "    def __init__(self, name, age=None, lod=level_of_danger, nol=number_of_legs):\n",
    "        self.name=name\n",
    "        self.age=age\n",
    "        self.level_of_danger=lod\n",
    "        self.number_of_legs=nol\n",
    "        self.enemies=list()\n",
    "        self.fights=dict()\n",
    "        \n",
    "    def voice(self):\n",
    "        print('bark! bark!')\n",
    "        \n",
    "    def birthday(self):\n",
    "        self.age+=1\n",
    "        \n",
    "    def setBuddy(self, bro):\n",
    "        self.buddy=bro\n",
    "        bro.buddy=self\n",
    "   \n",
    "    def fight_club(self,enemy):\n",
    "        if enemy in self.enemies:\n",
    "            return 'He is doing it again!'\n",
    "        else :\n",
    "            self.enemies.append(enemy)\n",
    "            enemy.enemies.append(self)\n",
    "            self.fights[enemy]=1\n",
    "            enemy.fight[self]=1\n",
    "        \n",
    "    "
   ]
  },
  {
   "cell_type": "code",
   "execution_count": 37,
   "metadata": {},
   "outputs": [],
   "source": [
    "barky=Dog('Barky')\n",
    "zippy=Dog('Zippy')"
   ]
  },
  {
   "cell_type": "code",
   "execution_count": 38,
   "metadata": {},
   "outputs": [
    {
     "data": {
      "text/plain": [
       "[]"
      ]
     },
     "execution_count": 38,
     "metadata": {},
     "output_type": "execute_result"
    }
   ],
   "source": [
    "barky.enemies"
   ]
  },
  {
   "cell_type": "code",
   "execution_count": 39,
   "metadata": {},
   "outputs": [],
   "source": [
    "barky.fight_club(zippy)"
   ]
  },
  {
   "cell_type": "code",
   "execution_count": 40,
   "metadata": {},
   "outputs": [
    {
     "data": {
      "text/plain": [
       "[<__main__.Dog at 0x528e6c8>]"
      ]
     },
     "execution_count": 40,
     "metadata": {},
     "output_type": "execute_result"
    }
   ],
   "source": [
    "barky.enemies"
   ]
  },
  {
   "cell_type": "code",
   "execution_count": 41,
   "metadata": {},
   "outputs": [
    {
     "data": {
      "text/plain": [
       "[]"
      ]
     },
     "execution_count": 41,
     "metadata": {},
     "output_type": "execute_result"
    }
   ],
   "source": [
    "zippy.enemies"
   ]
  },
  {
   "cell_type": "code",
   "execution_count": 43,
   "metadata": {},
   "outputs": [],
   "source": [
    "barky=Dog('Barky')\n",
    "zippy=Dog('Zippy')"
   ]
  },
  {
   "cell_type": "code",
   "execution_count": 44,
   "metadata": {},
   "outputs": [
    {
     "ename": "AttributeError",
     "evalue": "'Dog' object has no attribute 'fight'",
     "output_type": "error",
     "traceback": [
      "\u001b[1;31m---------------------------------------------------------------------------\u001b[0m",
      "\u001b[1;31mAttributeError\u001b[0m                            Traceback (most recent call last)",
      "\u001b[1;32m<ipython-input-44-ebf4f4330ce8>\u001b[0m in \u001b[0;36m<module>\u001b[1;34m\u001b[0m\n\u001b[1;32m----> 1\u001b[1;33m \u001b[0mbarky\u001b[0m\u001b[1;33m.\u001b[0m\u001b[0mfight_club\u001b[0m\u001b[1;33m(\u001b[0m\u001b[0mzippy\u001b[0m\u001b[1;33m)\u001b[0m\u001b[1;33m\u001b[0m\u001b[1;33m\u001b[0m\u001b[0m\n\u001b[0m",
      "\u001b[1;32m<ipython-input-42-aed117701ace>\u001b[0m in \u001b[0;36mfight_club\u001b[1;34m(self, enemy)\u001b[0m\n\u001b[0;32m     30\u001b[0m             \u001b[0menemy\u001b[0m\u001b[1;33m.\u001b[0m\u001b[0menemies\u001b[0m\u001b[1;33m.\u001b[0m\u001b[0mappend\u001b[0m\u001b[1;33m(\u001b[0m\u001b[0mself\u001b[0m\u001b[1;33m)\u001b[0m\u001b[1;33m\u001b[0m\u001b[1;33m\u001b[0m\u001b[0m\n\u001b[0;32m     31\u001b[0m             \u001b[0mself\u001b[0m\u001b[1;33m.\u001b[0m\u001b[0mfights\u001b[0m\u001b[1;33m[\u001b[0m\u001b[0menemy\u001b[0m\u001b[1;33m]\u001b[0m\u001b[1;33m=\u001b[0m\u001b[1;36m1\u001b[0m\u001b[1;33m\u001b[0m\u001b[1;33m\u001b[0m\u001b[0m\n\u001b[1;32m---> 32\u001b[1;33m             \u001b[0menemy\u001b[0m\u001b[1;33m.\u001b[0m\u001b[0mfight\u001b[0m\u001b[1;33m[\u001b[0m\u001b[0mself\u001b[0m\u001b[1;33m]\u001b[0m\u001b[1;33m=\u001b[0m\u001b[1;36m1\u001b[0m\u001b[1;33m\u001b[0m\u001b[1;33m\u001b[0m\u001b[0m\n\u001b[0m\u001b[0;32m     33\u001b[0m \u001b[1;33m\u001b[0m\u001b[0m\n\u001b[0;32m     34\u001b[0m \u001b[1;33m\u001b[0m\u001b[0m\n",
      "\u001b[1;31mAttributeError\u001b[0m: 'Dog' object has no attribute 'fight'"
     ]
    }
   ],
   "source": [
    "barky.fight_club(zippy)"
   ]
  },
  {
   "cell_type": "code",
   "execution_count": 46,
   "metadata": {},
   "outputs": [],
   "source": [
    "class Dog:\n",
    "    \n",
    "    species='mammals'\n",
    "    level_of_danger=1\n",
    "    number_of_legs=4\n",
    "    \n",
    "    def __init__(self, name, age=None, lod=level_of_danger, nol=number_of_legs):\n",
    "        self.name=name\n",
    "        self.age=age\n",
    "        self.level_of_danger_default=lod\n",
    "        self.level_of_danger_current=lod\n",
    "        self.number_of_legs=nol\n",
    "        self.enemies=list()\n",
    "        self.fights=dict()\n",
    "\n",
    "    def voice(self):\n",
    "        print('bark! bark!')\n",
    "         \n",
    "    def birthday(self):\n",
    "        self.age+=1\n",
    "        \n",
    "    def setBuddy(self, bro):\n",
    "        self.buddy=bro\n",
    "        bro.buddy=self\n",
    "        \n",
    "    def fight_club(self,enemy):\n",
    "        if self.number_of_legs==0:\n",
    "            return f'Sorry, {self.name} can\\'t even move. If you want to continue participating in a fight club, buy a new dog in our online shop'\n",
    "        \n",
    "        if enemy in self.enemies:\n",
    "            self.fights[enemy]+=1\n",
    "            enemy.fights[self]+=1\n",
    "            self.level_of_danger_current=self.level_of_danger_default + sum([i//2 for i in self.fights.values()])\n",
    "            if self.level_of_danger_current>10:\n",
    "                self.level_of_danger_current=5\n",
    "                self.chop_legs()\n",
    "            return 'Merde! He is doing it again!'\n",
    "        else:\n",
    "            self.enemies.append(enemy)\n",
    "            enemy.enemies.append(self)\n",
    "            self.fights[enemy]=1\n",
    "            enemy.fights[self]=1\n",
    "            if self.level_of_danger_current>enemy.level_of_danger_current*2:\n",
    "                enemy.chop_legs()\n",
    "            if self.level_of_danger_current*2<enemy.level_of_danger_current:\n",
    "                self.chop_legs()\n",
    "            \n",
    "    def chop_legs(self):\n",
    "        self.number_of_legs=max(0,self.number_of_legs-1)\n"
   ]
  },
  {
   "cell_type": "code",
   "execution_count": 47,
   "metadata": {},
   "outputs": [
    {
     "name": "stdout",
     "output_type": "stream",
     "text": [
      "4 {'Zippy': 1}\n",
      "3 {'Zippy': 1, 'Spark': 1}\n",
      "3 {'Zippy': 1, 'Spark': 2}\n",
      "4\n",
      "4\n",
      "3 {'Zippy': 1, 'Spark': 3}\n"
     ]
    }
   ],
   "source": [
    "barky=Dog('Barky')\n",
    "zippy=Dog('Zippy')\n",
    "spark=Dog('Spark', lod=5)\n",
    "barky.fight_club(zippy)\n",
    "print(barky.number_of_legs, {key.name: value for key,value in barky.fights.items()})\n",
    "barky.fight_club(spark)\n",
    "print(barky.number_of_legs,{key.name: value for key,value in barky.fights.items()})\n",
    "barky.fight_club(spark)\n",
    "print(barky.number_of_legs,{key.name: value for key,value in barky.fights.items()})\n",
    "spark.fight_club(zippy)\n",
    "print(spark.number_of_legs)\n",
    "spark.fight_club(barky)\n",
    "print(spark.number_of_legs)\n",
    "print(barky.number_of_legs,{key.name: value for key,value in barky.fights.items()})\n"
   ]
  },
  {
   "cell_type": "code",
   "execution_count": 48,
   "metadata": {},
   "outputs": [],
   "source": [
    "class Dog:\n",
    "    \n",
    "    species='mammals'\n",
    "    level_of_danger=1\n",
    "    number_of_legs=4\n",
    "    \n",
    "    def __init__(self, name, age=None, lod=level_of_danger, nol=number_of_legs):\n",
    "        self.name=name\n",
    "        self.age=age\n",
    "        self.level_of_danger_default=lod\n",
    "        self.level_of_danger_current=lod\n",
    "        self.number_of_legs=nol\n",
    "        self.enemies=list()\n",
    "        self.fights=dict()\n",
    "    def voice(self):\n",
    "        print('bark! bark!')\n",
    "         \n",
    "    def birthday(self):\n",
    "        self.age+=1\n",
    "        \n",
    "    def setBuddy(self, bro):\n",
    "        self.buddy=bro\n",
    "        bro.buddy=self\n",
    "        \n",
    "    def fight_club(self,enemy):\n",
    "        if self.number_of_legs==0:\n",
    "            return f'Sorry, {self.name} can\\'t even move. If you want to continue participating in a fight club, buy a new dog in our online shop'\n",
    "        \n",
    "        if enemy in self.enemies:\n",
    "            self.fights[enemy]+=1\n",
    "            enemy.fights[self]+=1\n",
    "            if self.level_of_danger_current>enemy.level_of_danger_current*2:\n",
    "                enemy.chop_legs()\n",
    "            elif self.level_of_danger_current*2<enemy.level_of_danger_current:\n",
    "                self.chop_legs()\n",
    "            self.level_of_danger_current=self.level_of_danger_default + sum([i//2 for i in self.fights.values()])\n",
    "            if self.level_of_danger_current>10:\n",
    "                self.level_of_danger_current=5\n",
    "                self.chop_legs()\n",
    "            return 'Merde! He is doing it again!'\n",
    "        else:\n",
    "            self.enemies.append(enemy)\n",
    "            enemy.enemies.append(self)\n",
    "            self.fights[enemy]=1\n",
    "            enemy.fights[self]=1\n",
    "            if self.level_of_danger_current>enemy.level_of_danger_current*2:\n",
    "                enemy.chop_legs()\n",
    "            if self.level_of_danger_current*2<enemy.level_of_danger_current:\n",
    "                self.chop_legs()\n",
    "            \n",
    "    def chop_legs(self):\n",
    "        self.number_of_legs=max(0,self.number_of_legs-1)\n"
   ]
  },
  {
   "cell_type": "code",
   "execution_count": 49,
   "metadata": {},
   "outputs": [
    {
     "name": "stdout",
     "output_type": "stream",
     "text": [
      "4 {'Zippy': 1}\n",
      "3 {'Zippy': 1, 'Spark': 1}\n",
      "2 {'Zippy': 1, 'Spark': 2}\n",
      "4\n",
      "4\n",
      "1 {'Zippy': 1, 'Spark': 3}\n"
     ]
    }
   ],
   "source": [
    "barky=Dog('Barky')\n",
    "zippy=Dog('Zippy')\n",
    "spark=Dog('Spark', lod=5)\n",
    "barky.fight_club(zippy)\n",
    "print(barky.number_of_legs, {key.name: value for key,value in barky.fights.items()})\n",
    "barky.fight_club(spark)\n",
    "print(barky.number_of_legs,{key.name: value for key,value in barky.fights.items()})\n",
    "barky.fight_club(spark)\n",
    "print(barky.number_of_legs,{key.name: value for key,value in barky.fights.items()})\n",
    "spark.fight_club(zippy)\n",
    "print(spark.number_of_legs)\n",
    "spark.fight_club(barky)\n",
    "print(spark.number_of_legs)\n",
    "print(barky.number_of_legs,{key.name: value for key,value in barky.fights.items()})"
   ]
  },
  {
   "cell_type": "code",
   "execution_count": 64,
   "metadata": {},
   "outputs": [
    {
     "data": {
      "text/plain": [
       "1"
      ]
     },
     "execution_count": 64,
     "metadata": {},
     "output_type": "execute_result"
    }
   ],
   "source": [
    "list=['pomme','poire','banane','ananas']\n",
    "list2=['mangue','fraise','framboise','cerise']\n",
    "digit=list.index('poire')\n",
    "digit"
   ]
  },
  {
   "cell_type": "code",
   "execution_count": 56,
   "metadata": {},
   "outputs": [],
   "source": [
    "solution=['White','Red','Blue','Black']\n",
    "choice=['Yellow','Blue','Pink','Orange']"
   ]
  },
  {
   "cell_type": "code",
   "execution_count": 59,
   "metadata": {},
   "outputs": [
    {
     "data": {
      "text/plain": [
       "'Blue'"
      ]
     },
     "execution_count": 59,
     "metadata": {},
     "output_type": "execute_result"
    }
   ],
   "source": [
    "choice[1]"
   ]
  },
  {
   "cell_type": "code",
   "execution_count": 62,
   "metadata": {},
   "outputs": [
    {
     "data": {
      "text/plain": [
       "2"
      ]
     },
     "execution_count": 62,
     "metadata": {},
     "output_type": "execute_result"
    }
   ],
   "source": [
    "solution.index(choice[1])"
   ]
  },
  {
   "cell_type": "code",
   "execution_count": 63,
   "metadata": {},
   "outputs": [
    {
     "data": {
      "text/plain": [
       "['White', 'Red', 'Almost', 'Black']"
      ]
     },
     "execution_count": 63,
     "metadata": {},
     "output_type": "execute_result"
    }
   ],
   "source": [
    "solution[solution.index(choice[1])]='Almost'\n",
    "solution"
   ]
  },
  {
   "cell_type": "code",
   "execution_count": 88,
   "metadata": {},
   "outputs": [
    {
     "name": "stdout",
     "output_type": "stream",
     "text": [
      "\u001b[5mYellow\u001b[6m\n"
     ]
    }
   ],
   "source": [
    "class color:\n",
    "   PURPLE = '\\033[95m'\n",
    "   CYAN = '\\033[96m'\n",
    "   DARKCYAN = '\\033[36m'\n",
    "   BLUE = '\\033[94m'\n",
    "   GREEN = '\\033[92m'\n",
    "   YELLOW = '\\033[33m'\n",
    "   RED = '\\033[91m'\n",
    "   BOLD = '\\033[1m'\n",
    "   UNDERLINE = '\\033[4m'\n",
    "   WHITE = '\\33[37m'\n",
    "   BLINK1='\\33[5m'\n",
    "   BLINK2='\\33[6m'\n",
    "   END = '\\033[0m'\n",
    "\n",
    "print(color.BLINK1 + 'Yellow' + color.BLINK2)"
   ]
  },
  {
   "cell_type": "code",
   "execution_count": 66,
   "metadata": {},
   "outputs": [
    {
     "name": "stdout",
     "output_type": "stream",
     "text": [
      "\u001b[95mHello World !\u001b[0m\n"
     ]
    }
   ],
   "source": [
    "print(color.PURPLE + 'Hello World !' + color.END)"
   ]
  },
  {
   "cell_type": "code",
   "execution_count": 89,
   "metadata": {},
   "outputs": [
    {
     "name": "stdout",
     "output_type": "stream",
     "text": [
      "\u001b[91mRed\u001b[0m \u001b[92mGreen\u001b[0m \u001b[37mWhite\u001b[0m\n"
     ]
    }
   ],
   "source": [
    "yellow=(color.YELLOW + 'Yellow' + color.END)\n",
    "red=(color.RED + 'Red' + color.END)\n",
    "black=(color.END + 'Black' + color.END)\n",
    "blue=(color.CYAN + 'Blue' + color.END)\n",
    "green=(color.GREEN + 'Green' + color.END)\n",
    "white=(color.WHITE + 'White' + color.END)\n",
    "print(red, green, white)"
   ]
  },
  {
   "cell_type": "code",
   "execution_count": 90,
   "metadata": {},
   "outputs": [
    {
     "ename": "ModuleNotFoundError",
     "evalue": "No module named 'Tkinter'",
     "output_type": "error",
     "traceback": [
      "\u001b[1;31m---------------------------------------------------------------------------\u001b[0m",
      "\u001b[1;31mModuleNotFoundError\u001b[0m                       Traceback (most recent call last)",
      "\u001b[1;32m<ipython-input-90-7f1a6a7083a6>\u001b[0m in \u001b[0;36m<module>\u001b[1;34m\u001b[0m\n\u001b[1;32m----> 1\u001b[1;33m \u001b[1;32mfrom\u001b[0m \u001b[0mTkinter\u001b[0m \u001b[1;32mimport\u001b[0m \u001b[1;33m*\u001b[0m\u001b[1;33m\u001b[0m\u001b[1;33m\u001b[0m\u001b[0m\n\u001b[0m\u001b[0;32m      2\u001b[0m \u001b[1;33m\u001b[0m\u001b[0m\n\u001b[0;32m      3\u001b[0m \u001b[1;32mclass\u001b[0m \u001b[0mApp\u001b[0m\u001b[1;33m:\u001b[0m\u001b[1;33m\u001b[0m\u001b[1;33m\u001b[0m\u001b[0m\n\u001b[0;32m      4\u001b[0m \u001b[1;33m\u001b[0m\u001b[0m\n\u001b[0;32m      5\u001b[0m     \u001b[1;32mdef\u001b[0m \u001b[0m__init__\u001b[0m\u001b[1;33m(\u001b[0m\u001b[0mself\u001b[0m\u001b[1;33m,\u001b[0m \u001b[0mmaster\u001b[0m\u001b[1;33m)\u001b[0m\u001b[1;33m:\u001b[0m\u001b[1;33m\u001b[0m\u001b[1;33m\u001b[0m\u001b[0m\n",
      "\u001b[1;31mModuleNotFoundError\u001b[0m: No module named 'Tkinter'"
     ]
    }
   ],
   "source": [
    "from Tkinter import *\n",
    " \n",
    "class App:\n",
    " \n",
    "    def __init__(self, master):\n",
    "        self.frame = Frame(master)\n",
    "        self.frame.pack()\n",
    " \n",
    "        self.text = Label(self.frame, text=\"Hello\", fg=\"red\")\n",
    "        self.text.pack(side=LEFT)\n",
    " \n",
    "        self.textIsVisible = True\n",
    "        self.clignoter()\n",
    " \n",
    "    def clignoter(self):\n",
    "        if self.textIsVisible:\n",
    "            clr = self.frame.cget('bg')\n",
    "        else:\n",
    "            clr = \"red\"\n",
    " \n",
    "        self.text.config(fg=clr)\n",
    "        self.textIsVisible = not self.textIsVisible\n",
    "        self.frame.after(500, self.clignoter)\n",
    " \n",
    "root = Tk()\n",
    "app = App(root)\n",
    "root.mainloop()"
   ]
  },
  {
   "cell_type": "code",
   "execution_count": null,
   "metadata": {},
   "outputs": [],
   "source": []
  }
 ],
 "metadata": {
  "kernelspec": {
   "display_name": "Python 3",
   "language": "python",
   "name": "python3"
  },
  "language_info": {
   "codemirror_mode": {
    "name": "ipython",
    "version": 3
   },
   "file_extension": ".py",
   "mimetype": "text/x-python",
   "name": "python",
   "nbconvert_exporter": "python",
   "pygments_lexer": "ipython3",
   "version": "3.7.4"
  }
 },
 "nbformat": 4,
 "nbformat_minor": 2
}
